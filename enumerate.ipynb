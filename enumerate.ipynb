{
  "nbformat": 4,
  "nbformat_minor": 0,
  "metadata": {
    "colab": {
      "name": "enumerate.ipynb",
      "provenance": [],
      "collapsed_sections": [],
      "authorship_tag": "ABX9TyMA0tNiYbHS0C9YGmMDqu/o",
      "include_colab_link": true
    },
    "kernelspec": {
      "name": "python3",
      "display_name": "Python 3"
    },
    "language_info": {
      "name": "python"
    }
  },
  "cells": [
    {
      "cell_type": "markdown",
      "metadata": {
        "id": "view-in-github",
        "colab_type": "text"
      },
      "source": [
        "<a href=\"https://colab.research.google.com/github/VitorSenna/trabalhospython/blob/main/enumerate.ipynb\" target=\"_parent\"><img src=\"https://colab.research.google.com/assets/colab-badge.svg\" alt=\"Open In Colab\"/></a>"
      ]
    },
    {
      "cell_type": "code",
      "metadata": {
        "colab": {
          "base_uri": "https://localhost:8080/"
        },
        "id": "MhhM9hiprB_L",
        "outputId": "72c13997-2860-4029-d310-ff5ca930a049"
      },
      "source": [
        "x=[\"abacate\", \"banana\", \"maca\"]\n",
        "\n",
        "for i in range(len(x)): #Range cria um vetor, Len mede o tamanho da lista\n",
        "  print(i, x[i])\n",
        "\n",
        "for i, nome in enumerate(x):\n",
        "  print(i, nome)"
      ],
      "execution_count": null,
      "outputs": [
        {
          "output_type": "stream",
          "text": [
            "0 abacate\n",
            "1 banana\n",
            "2 maca\n",
            "0 abacate\n",
            "1 banana\n",
            "2 maca\n"
          ],
          "name": "stdout"
        }
      ]
    }
  ]
}