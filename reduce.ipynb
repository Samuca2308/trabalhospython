{
  "nbformat": 4,
  "nbformat_minor": 0,
  "metadata": {
    "colab": {
      "name": "reduce.ipynb",
      "provenance": [],
      "authorship_tag": "ABX9TyOFrSpKWH5vpS2dTQAbke+G",
      "include_colab_link": true
    },
    "kernelspec": {
      "name": "python3",
      "display_name": "Python 3"
    },
    "language_info": {
      "name": "python"
    }
  },
  "cells": [
    {
      "cell_type": "markdown",
      "metadata": {
        "id": "view-in-github",
        "colab_type": "text"
      },
      "source": [
        "<a href=\"https://colab.research.google.com/github/VitorSenna/trabalhospython/blob/main/reduce.ipynb\" target=\"_parent\"><img src=\"https://colab.research.google.com/assets/colab-badge.svg\" alt=\"Open In Colab\"/></a>"
      ]
    },
    {
      "cell_type": "code",
      "metadata": {
        "colab": {
          "base_uri": "https://localhost:8080/"
        },
        "id": "EMhzNbEGxFsJ",
        "outputId": "9b37a9c8-f8be-40dc-8f67-93e9ea5c2be7"
      },
      "source": [
        "#Recebe uma lista, e retorna um único valor dessa lista\n",
        "\n",
        "from functools import reduce\n",
        "\n",
        "def soma(x,y):\n",
        "  return x+y\n",
        "\n",
        "lista=[1,3,5,10,20]\n",
        "\n",
        "soma=reduce(soma,lista)\n",
        "print(soma)"
      ],
      "execution_count": null,
      "outputs": [
        {
          "output_type": "stream",
          "text": [
            "39\n"
          ],
          "name": "stdout"
        }
      ]
    }
  ]
}