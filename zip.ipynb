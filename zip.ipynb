{
  "nbformat": 4,
  "nbformat_minor": 0,
  "metadata": {
    "colab": {
      "name": "zip.ipynb",
      "provenance": [],
      "authorship_tag": "ABX9TyM+z2jglGwQWDEZAtL7qreG",
      "include_colab_link": true
    },
    "kernelspec": {
      "name": "python3",
      "display_name": "Python 3"
    },
    "language_info": {
      "name": "python"
    }
  },
  "cells": [
    {
      "cell_type": "markdown",
      "metadata": {
        "id": "view-in-github",
        "colab_type": "text"
      },
      "source": [
        "<a href=\"https://colab.research.google.com/github/VitorSenna/trabalhospython/blob/main/zip.ipynb\" target=\"_parent\"><img src=\"https://colab.research.google.com/assets/colab-badge.svg\" alt=\"Open In Colab\"/></a>"
      ]
    },
    {
      "cell_type": "code",
      "metadata": {
        "colab": {
          "base_uri": "https://localhost:8080/"
        },
        "id": "re4pz0i5-tkN",
        "outputId": "fb11b5ea-f608-4c81-aa23-2e0daf52d731"
      },
      "source": [
        "lista1=[1,2,3,4,5]\n",
        "lista2=['Abacate', 'Bola', 'Cachorro', 'Dinheiro', 'Elefante']\n",
        "lista3=['R$2,00', 'R$2,00', 'R$2,00', 'R$2,00', 'R$2,00',]\n",
        "\n",
        "for numero,nome,valor in zip(lista1, lista2, lista3):\n",
        "  print(numero, '-' ,nome, '-' ,valor)"
      ],
      "execution_count": 4,
      "outputs": [
        {
          "output_type": "stream",
          "text": [
            "1 - Abacate - R$2,00\n",
            "2 - Bola - R$2,00\n",
            "3 - Cachorro - R$2,00\n",
            "4 - Dinheiro - R$2,00\n",
            "5 - Elefante - R$2,00\n"
          ],
          "name": "stdout"
        }
      ]
    }
  ]
}