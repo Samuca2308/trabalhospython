{
  "nbformat": 4,
  "nbformat_minor": 0,
  "metadata": {
    "colab": {
      "name": "exerciciosCursoPython.ipynb",
      "provenance": [],
      "collapsed_sections": [],
      "authorship_tag": "ABX9TyNB0cLxwrGIjNZ1NC134cza",
      "include_colab_link": true
    },
    "kernelspec": {
      "name": "python3",
      "display_name": "Python 3"
    },
    "language_info": {
      "name": "python"
    }
  },
  "cells": [
    {
      "cell_type": "markdown",
      "metadata": {
        "id": "view-in-github",
        "colab_type": "text"
      },
      "source": [
        "<a href=\"https://colab.research.google.com/github/VitorSenna/trabalhospython/blob/main/exerciciosCursoPython.ipynb\" target=\"_parent\"><img src=\"https://colab.research.google.com/assets/colab-badge.svg\" alt=\"Open In Colab\"/></a>"
      ]
    },
    {
      "cell_type": "code",
      "metadata": {
        "colab": {
          "base_uri": "https://localhost:8080/"
        },
        "id": "fLFyNz288u36",
        "outputId": "0350b628-e280-42ad-a8f8-9b3f8d4964de"
      },
      "source": [
        "from math import*\n",
        "\n",
        "'''#EX1: Faça um programa que receba a idade do usuário e diga se ele é maior ou menor de idade.\n",
        "idade=int(input('Digite a idade: '))\n",
        "\n",
        "if idade >=18:\n",
        "  print('Maior de idade!')\n",
        "else:\n",
        "  print('Menor de idade!')\n",
        "\n",
        "#EX2: Faça um programa que receba duas notas digitadas pelo usuário. Se a nota for maior ou igual a seis, escreva aprovado, senão escreva reprovado.\n",
        "\n",
        "nota1=float(input('Digite nota1: '))\n",
        "nota2=float(input('Digite nota2: '))\n",
        "\n",
        "media=((nota1+nota2)/2)\n",
        "\n",
        "if media >=6:\n",
        "  print('Média: ', media, '-','Aprovado')\n",
        "else:\n",
        "  print('Média: ', media, '-','Reprovado')\n",
        "\n",
        "#EX3: Escreva um programa que resolva uma equação de segundo grau.\n",
        "\n",
        "print('Equação aX²+bX+c')\n",
        "\n",
        "a=float(input('Valor de a: '))\n",
        "while a==0:\n",
        "  print('Esse valor não é valido para uma equação de segundo grau!')\n",
        "  a=float(input('Digite um valor válido para a: '))\n",
        "b=float(input('Valor de b: '))\n",
        "c=float(input('Valor de c: '))\n",
        "\n",
        "delta= (b**2)-(4*a*c)\n",
        "print('Delta: ', delta)\n",
        "\n",
        "y=c\n",
        "\n",
        "if delta>0:\n",
        "  x1=((-b)+sqrt(delta))/(2*a)\n",
        "  x2=((-b)-sqrt(delta))/(2*a)\n",
        "  print('\\t\\tHá dois interceptos X')\n",
        "  print('X1: ', x1)\n",
        "  print('X2: ', x2)\n",
        "elif delta == 0:\n",
        "  x1=((-b)+sqrt(delta))/(2*a)\n",
        "  print('\\t\\tHá apenas um intercepto X')\n",
        "  print('X:', x1)\n",
        "else:\n",
        "  print('Não há intercepto X')\n",
        "\n",
        "if y != 0:\n",
        "  print('\\t\\tHá intercepto Y!')\n",
        "  print('Y: ', y)\n",
        "else:\n",
        "  print('\\t\\tNão há intercepto Y!')\n",
        "\n",
        "if a>0:\n",
        "  print('Concavidade para cima.')\n",
        "elif a<0:\n",
        "  print('Concavidade para baixo')\n",
        "'''\n",
        "\n",
        "#EX4: Escreva um programa que ordene uma lista numérica com três elementos.\n",
        "\n",
        "lista=[25,36,2]\n",
        "print('Lista: ',lista)\n",
        "\n",
        "lista.sort()\n",
        "\n",
        "print('Lista ordenada: ',lista)\n",
        "\n",
        "#EX5: Escreva um programa que receba dois números e um sinal, e faça a operação matemática definida pelo sinal.\n",
        "\n",
        "a=float(input('Informe o valor A: '))\n",
        "b=float(input('Informe o valor B: '))\n",
        "sinal=input('Informe o sinal: ')\n",
        "\n",
        "if sinal == '+':\n",
        "  print('\\tSOMA')\n",
        "  print('A+B=', a+b)"
      ],
      "execution_count": 38,
      "outputs": [
        {
          "output_type": "stream",
          "text": [
            "Lista:  [25, 36, 2]\n",
            "Lista ordenada:  [2, 25, 36]\n",
            "Informe o valor A: 2\n",
            "Informe o valor B: 3\n",
            "Informe o sinal: +\n",
            "\tSOMA\n",
            "A+B= 5.0\n"
          ],
          "name": "stdout"
        }
      ]
    }
  ]
}