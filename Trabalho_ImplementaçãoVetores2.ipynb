{
  "nbformat": 4,
  "nbformat_minor": 0,
  "metadata": {
    "colab": {
      "name": "Trabalho_ImplementaçãoVetores2.ipynb",
      "provenance": [],
      "collapsed_sections": [],
      "authorship_tag": "ABX9TyNkdtm+cr8ja0qzqyhjX2Gf",
      "include_colab_link": true
    },
    "kernelspec": {
      "name": "python3",
      "display_name": "Python 3"
    },
    "language_info": {
      "name": "python"
    }
  },
  "cells": [
    {
      "cell_type": "markdown",
      "metadata": {
        "id": "view-in-github",
        "colab_type": "text"
      },
      "source": [
        "<a href=\"https://colab.research.google.com/github/VitorSenna/trabalhospython/blob/main/Trabalho_Implementa%C3%A7%C3%A3oVetores2.ipynb\" target=\"_parent\"><img src=\"https://colab.research.google.com/assets/colab-badge.svg\" alt=\"Open In Colab\"/></a>"
      ]
    },
    {
      "cell_type": "code",
      "metadata": {
        "colab": {
          "base_uri": "https://localhost:8080/"
        },
        "id": "ze7wBtWXVPSG",
        "outputId": "a6279eb8-ea3d-48d4-cc66-f1f042054867"
      },
      "source": [
        "from math import*\n",
        "\n",
        "vetor1=[0,0]\n",
        "vetor2=[0,0]\n",
        "w=[0,0]\n",
        "conf='S'\n",
        "cont=1\n",
        "\n",
        "while(conf=='S'):\n",
        "  print(f'\\t\\tOPERAÇÃO {cont}')\n",
        "  print()\n",
        "  for i in range(0,2):\n",
        "    vetor1[i]=float(input(f'Digite o valor de Vetor1[{i+1}]: '))\n",
        "  print()\n",
        "\n",
        "  for i in range(0,2):\n",
        "    vetor2[i]=float(input(f'Digite o valor de Vetor2[{i+1}]: '))\n",
        "  print()\n",
        "\n",
        "  for i in range(0,2):\n",
        "    w[i]=float(input(f'Digite o valor de w[{i+1}]: '))\n",
        "  print()\n",
        "\n",
        "  delta=(vetor1[0]*vetor2[1])-(vetor1[1]*vetor2[0])\n",
        "\n",
        "  if delta==0:\n",
        "    print(f'Os vetores Vetor1{vetor1} e Vetor2{vetor2} são LD, ou seja, não formam formam uma base')\n",
        "  else:\n",
        "    print(f'Os vetores Vetor1{vetor1} e Vetor2{vetor2} são LI, ou seja, formam uma base')\n",
        "    print()\n",
        "    print(f'|a{vetor1[0]} + b{vetor2[0]} = {w[0]}')\n",
        "    print(f'|a{vetor1[1]} + b{vetor2[1]} = {w[1]}')\n",
        "\n",
        "    deltaA=(w[0]*vetor2[0])-(w[1]*vetor2[1])\n",
        "    a=float((deltaA/delta))\n",
        "\n",
        "\n",
        "    deltaB=(vetor1[0]*w[0])-(vetor1[1]*w[1])\n",
        "    b=float((deltaB/delta))\n",
        "    print()\n",
        "\n",
        "    vResultanteW=[a,b]\n",
        "\n",
        "    for i in range(0,2):\n",
        "      vResultanteW[i]=round(vResultanteW[i],4)\n",
        "\n",
        "\n",
        "    print(f'Os vetores Vetor1{vetor1} e Vetor2{vetor2} em uma combinação linear com o vetor W{w} resultam no Vetor Resultante={vResultanteW}')\n",
        "\n",
        "    conf=input('Deseja realizar outra operação?(S/N): ')\n",
        "\n",
        "    if conf=='s':\n",
        "      conf=conf.upper()\n",
        "      cont=cont+1\n",
        "      print()\n",
        "      print()\n",
        "      print()\n",
        " "
      ],
      "execution_count": null,
      "outputs": [
        {
          "output_type": "stream",
          "text": [
            "\t\tOPERAÇÃO 1\n",
            "\n"
          ],
          "name": "stdout"
        }
      ]
    }
  ]
}