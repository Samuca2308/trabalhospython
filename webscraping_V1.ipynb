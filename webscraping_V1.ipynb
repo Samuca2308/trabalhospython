{
 "cells": [
  {
   "cell_type": "code",
   "execution_count": 100,
   "id": "117acf18",
   "metadata": {},
   "outputs": [
    {
     "name": "stdout",
     "output_type": "stream",
     "text": [
      "WEB SCRAPING\n"
     ]
    }
   ],
   "source": [
    "from selenium import webdriver\n",
    "from selenium.webdriver.common.keys import Keys\n",
    "import re\n",
    "import pandas as pd\n",
    "from math import*\n",
    "print('WEB SCRAPING')\n",
    "\n",
    "#Abrir um navegador\n",
    "url = [\"https://twitter.com/lucianohuck\", \"https://twitter.com/vithorse\", \"https://www.google.com/\"]\n",
    "navegador = webdriver.Chrome()\n",
    "navegador.get(url[2])\n",
    "\n",
    "#Leitura do preço do dolar\n",
    "navegador.find_element_by_xpath('/html/body/div[1]/div[3]/form/div[1]/div[1]/div[1]/div/div[2]/input').send_keys('cotação do dolar') #escrever no campo\n",
    "navegador.find_element_by_xpath('/html/body/div[1]/div[3]/form/div[1]/div[1]/div[1]/div/div[2]/input').send_keys(Keys.ENTER) #pressionar tecla\n",
    "\n",
    "dolar = navegador.find_element_by_xpath('//*[@id=\"knowledge-currency__updatable-data-column\"]/div[1]/div[2]/span[1]').get_attribute(\"data-value\") #procurar por atributo\n",
    "navegador.quit()\n",
    "\n",
    "\n",
    "#dolar = round(float(dolar),2)"
   ]
  },
  {
   "cell_type": "code",
   "execution_count": 101,
   "id": "bbfb5987",
   "metadata": {},
   "outputs": [],
   "source": [
    "#leitura do preço do bitcoin\n",
    "\n",
    "navegador = webdriver.Chrome()\n",
    "navegador.get(url[2])\n",
    "\n",
    "navegador.find_element_by_xpath('/html/body/div[1]/div[3]/form/div[1]/div[1]/div[1]/div/div[2]/input').send_keys('preço bitcoin')\n",
    "navegador.find_element_by_xpath('/html/body/div[1]/div[3]/form/div[1]/div[1]/div[1]/div/div[2]/input').send_keys(Keys.ENTER)\n",
    "\n",
    "bitcoin = navegador.find_element_by_xpath('//*[@id=\"knowledge-currency__updatable-data-column\"]/div[1]/div[2]/span[1]').get_attribute(\"data-value\")\n",
    "navegador.quit()\n",
    "\n",
    "#bitcoin = round(float(bitcoin),2)"
   ]
  },
  {
   "cell_type": "code",
   "execution_count": 102,
   "id": "9c55ff8e",
   "metadata": {},
   "outputs": [
    {
     "name": "stdout",
     "output_type": "stream",
     "text": [
      "8952.663349999999\n"
     ]
    }
   ],
   "source": [
    "#Leitura do preço do bitcoin\n",
    "\n",
    "navegador=webdriver.Chrome()\n",
    "navegador.get(url[2])\n",
    "\n",
    "navegador.find_element_by_xpath('/html/body/div[1]/div[3]/form/div[1]/div[1]/div[1]/div/div[2]/input').send_keys('preço etherum')\n",
    "navegador.find_element_by_xpath('/html/body/div[1]/div[3]/form/div[1]/div[1]/div[1]/div/div[2]/input').send_keys(Keys.ENTER)\n",
    "\n",
    "ether = navegador.find_element_by_xpath('//*[@id=\"knowledge-currency__updatable-data-column\"]/div[1]/div[2]/span[1]').get_attribute(\"data-value\")\n",
    "navegador.quit()\n",
    "\n",
    "#ether = round(float(ether), 2)\n",
    "print(ether)"
   ]
  },
  {
   "cell_type": "code",
   "execution_count": 103,
   "id": "c84a5a5c",
   "metadata": {},
   "outputs": [
    {
     "name": "stdout",
     "output_type": "stream",
     "text": [
      "5.889863610000001\n"
     ]
    }
   ],
   "source": [
    "#Leitura preço do Euro\n",
    "\n",
    "navegador=webdriver.Chrome()\n",
    "navegador.get(url[2])\n",
    "\n",
    "navegador.find_element_by_xpath('/html/body/div[1]/div[3]/form/div[1]/div[1]/div[1]/div/div[2]/input').send_keys('cotação euro')\n",
    "navegador.find_element_by_xpath('/html/body/div[1]/div[3]/form/div[1]/div[1]/div[1]/div/div[2]/input').send_keys(Keys.ENTER)\n",
    "\n",
    "euro = navegador.find_element_by_xpath('//*[@id=\"knowledge-currency__updatable-data-column\"]/div[1]/div[2]/span[1]').get_attribute(\"data-value\")\n",
    "navegador.quit()\n",
    "\n",
    "#euro=round(float(euro),2)\n",
    "print(euro)"
   ]
  },
  {
   "cell_type": "code",
   "execution_count": 104,
   "id": "a4ab2246",
   "metadata": {},
   "outputs": [
    {
     "data": {
      "text/html": [
       "<div>\n",
       "<style scoped>\n",
       "    .dataframe tbody tr th:only-of-type {\n",
       "        vertical-align: middle;\n",
       "    }\n",
       "\n",
       "    .dataframe tbody tr th {\n",
       "        vertical-align: top;\n",
       "    }\n",
       "\n",
       "    .dataframe thead th {\n",
       "        text-align: right;\n",
       "    }\n",
       "</style>\n",
       "<table border=\"1\" class=\"dataframe\">\n",
       "  <thead>\n",
       "    <tr style=\"text-align: right;\">\n",
       "      <th></th>\n",
       "      <th>Moeda</th>\n",
       "      <th>Preço R$</th>\n",
       "      <th>Tipo Moeda</th>\n",
       "      <th>Cotação Moeda</th>\n",
       "      <th>Preço $</th>\n",
       "    </tr>\n",
       "  </thead>\n",
       "  <tbody>\n",
       "    <tr>\n",
       "      <th>0</th>\n",
       "      <td>Bitcoin</td>\n",
       "      <td>157805.31</td>\n",
       "      <td>Dolar</td>\n",
       "      <td>4.934500</td>\n",
       "      <td>31980.0</td>\n",
       "    </tr>\n",
       "    <tr>\n",
       "      <th>1</th>\n",
       "      <td>Etherum</td>\n",
       "      <td>8952.66335</td>\n",
       "      <td>Euro</td>\n",
       "      <td>5.889864</td>\n",
       "      <td>1520.011997</td>\n",
       "    </tr>\n",
       "    <tr>\n",
       "      <th>2</th>\n",
       "      <td>NaN</td>\n",
       "      <td>NaN</td>\n",
       "      <td>NaN</td>\n",
       "      <td>NaN</td>\n",
       "      <td>NaN</td>\n",
       "    </tr>\n",
       "    <tr>\n",
       "      <th>3</th>\n",
       "      <td>Data e Hora</td>\n",
       "      <td>2021-06-26 00:18:19.470000</td>\n",
       "      <td>NaN</td>\n",
       "      <td>NaN</td>\n",
       "      <td>NaN</td>\n",
       "    </tr>\n",
       "  </tbody>\n",
       "</table>\n",
       "</div>"
      ],
      "text/plain": [
       "         Moeda                    Preço R$ Tipo Moeda  Cotação Moeda  \\\n",
       "0      Bitcoin                   157805.31      Dolar       4.934500   \n",
       "1      Etherum                  8952.66335       Euro       5.889864   \n",
       "2          NaN                         NaN        NaN            NaN   \n",
       "3  Data e Hora  2021-06-26 00:18:19.470000        NaN            NaN   \n",
       "\n",
       "       Preço $  \n",
       "0      31980.0  \n",
       "1  1520.011997  \n",
       "2          NaN  \n",
       "3          NaN  "
      ]
     },
     "metadata": {},
     "output_type": "display_data"
    }
   ],
   "source": [
    "#Análise de dados Excel\n",
    "\n",
    "tabela = pd.read_excel(\"cotacao.xlsx\")\n",
    "\n",
    "\n",
    "#tabela['Moeda']=='Bitcoin'\n",
    "tabela.loc[tabela['Moeda'] =='Bitcoin', 'Preço R$'] = float(bitcoin)\n",
    "tabela.loc[tabela['Moeda'] =='Etherum', 'Preço R$'] = float(ether)\n",
    "\n",
    "tabela.loc[tabela['Tipo Moeda'] == 'Dolar', 'Cotação Moeda'] = float(dolar)\n",
    "tabela.loc[tabela['Tipo Moeda'] == 'Euro', 'Cotação Moeda'] = float(euro)\n",
    "\n",
    "tabela['Preço $'] = tabela['Preço R$'] / tabela['Cotação Moeda'] \n",
    "display(tabela)\n",
    "\n",
    "tabela.to_excel('cotacao.xlsx', index=False)#indices"
   ]
  },
  {
   "cell_type": "code",
   "execution_count": null,
   "id": "488679ba",
   "metadata": {},
   "outputs": [],
   "source": []
  }
 ],
 "metadata": {
  "kernelspec": {
   "display_name": "Python 3",
   "language": "python",
   "name": "python3"
  },
  "language_info": {
   "codemirror_mode": {
    "name": "ipython",
    "version": 3
   },
   "file_extension": ".py",
   "mimetype": "text/x-python",
   "name": "python",
   "nbconvert_exporter": "python",
   "pygments_lexer": "ipython3",
   "version": "3.8.8"
  }
 },
 "nbformat": 4,
 "nbformat_minor": 5
}
