{
  "nbformat": 4,
  "nbformat_minor": 0,
  "metadata": {
    "colab": {
      "name": "listaComprehesion.ipynb",
      "provenance": [],
      "collapsed_sections": [],
      "authorship_tag": "ABX9TyOAbzy9zJX9IbUI+ksJ7kiX",
      "include_colab_link": true
    },
    "kernelspec": {
      "name": "python3",
      "display_name": "Python 3"
    },
    "language_info": {
      "name": "python"
    }
  },
  "cells": [
    {
      "cell_type": "markdown",
      "metadata": {
        "id": "view-in-github",
        "colab_type": "text"
      },
      "source": [
        "<a href=\"https://colab.research.google.com/github/VitorSenna/trabalhospython/blob/main/listaComprehesion.ipynb\" target=\"_parent\"><img src=\"https://colab.research.google.com/assets/colab-badge.svg\" alt=\"Open In Colab\"/></a>"
      ]
    },
    {
      "cell_type": "code",
      "metadata": {
        "colab": {
          "base_uri": "https://localhost:8080/"
        },
        "id": "IOrqeMT7po-x",
        "outputId": "5fba188b-0950-46b2-e379-752b988dd08a"
      },
      "source": [
        "#Faz operações condicionais em uma lista\n",
        "\n",
        "x=[1,2,3,4,5]\n",
        "y=[]\n",
        "z=[i for i in x if i%2==1]\n",
        "\n",
        "for i in x:\n",
        "  y.append(i**2)\n",
        "print(y)\n",
        "\n",
        "x=[1,2,3,4,5]\n",
        "y=['''valor_a_adicionar laço condição''']\n",
        "y=[i**2 for i in x]\n",
        "z=[i for i in x if i%2==1]\n",
        "\n",
        "print(y)\n",
        "print(z)"
      ],
      "execution_count": null,
      "outputs": [
        {
          "output_type": "stream",
          "text": [
            "[1, 4, 9, 16, 25]\n",
            "[1, 4, 9, 16, 25]\n",
            "[1, 3, 5]\n"
          ],
          "name": "stdout"
        }
      ]
    }
  ]
}