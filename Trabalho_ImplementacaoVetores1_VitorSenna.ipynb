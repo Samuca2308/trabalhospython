{
  "nbformat": 4,
  "nbformat_minor": 0,
  "metadata": {
    "colab": {
      "name": "Trabalho_ImplementacaoVetores1_VitorSenna.ipynb",
      "provenance": [],
      "collapsed_sections": [],
      "authorship_tag": "ABX9TyOH1Zo8gbSAnhdH+f22cWpF",
      "include_colab_link": true
    },
    "kernelspec": {
      "name": "python3",
      "display_name": "Python 3"
    },
    "language_info": {
      "name": "python"
    }
  },
  "cells": [
    {
      "cell_type": "markdown",
      "metadata": {
        "id": "view-in-github",
        "colab_type": "text"
      },
      "source": [
        "<a href=\"https://colab.research.google.com/github/VitorSenna/trabalhospython/blob/main/Trabalho_ImplementacaoVetores1_VitorSenna.ipynb\" target=\"_parent\"><img src=\"https://colab.research.google.com/assets/colab-badge.svg\" alt=\"Open In Colab\"/></a>"
      ]
    },
    {
      "cell_type": "code",
      "metadata": {
        "colab": {
          "base_uri": "https://localhost:8080/"
        },
        "id": "6AEujR76Ubom",
        "outputId": "f35494ce-5a3b-4ede-efa3-bf781d658e14"
      },
      "source": [
        "from math import*\n",
        "\n",
        "vetor1=[1,6,7]\n",
        "vetor2=[8,6,1]\n",
        "vetor3=[4,2,9]\n",
        "conf=1\n",
        "while (conf!=0):\n",
        "    #soma dos vetores\n",
        "    somaVet1Vet2=[(vetor1[0]+vetor2[0]), (vetor1[1]+vetor2[1]), (vetor1[2]+vetor2[2])] #vetor1+vetor2\n",
        "    somaVet1Vet3=[(vetor1[0]+vetor3[0]), (vetor1[1]+vetor3[1]), (vetor1[2]+vetor3[2])] #vetor1+vetor3\n",
        "    somaVet2Vet3=[(vetor2[0]+vetor3[0]), (vetor2[1]+vetor3[1]), (vetor2[2]+vetor3[2])] #vetor2+vetor3\n",
        "\n",
        "    #subtração dos vetores\n",
        "    subtracVet1Vet2=[(vetor1[0]-vetor2[0]), (vetor1[1]-vetor2[1]), (vetor1[2]-vetor2[2])] #vetor1+vetor2\n",
        "    subtracVet1Vet3=[(vetor1[0]-vetor3[0]), (vetor1[1]-vetor3[1]), (vetor1[2]-vetor3[2])] #vetor1+vetor3\n",
        "    subtracVet2Vet3=[(vetor2[0]-vetor3[0]), (vetor2[1]-vetor3[1]), (vetor2[2]-vetor3[2])] #vetor2+vetor3\n",
        "\n",
        "    #módulo dos vetores\n",
        "    modVet1=sqrt(pow(vetor1[0], 2)+pow(vetor1[1], 2)+pow(vetor1[2], 2))\n",
        "    modVet2=sqrt(pow(vetor2[0], 2)+pow(vetor2[1], 2)+pow(vetor2[2], 2))\n",
        "    modVet3=sqrt(pow(vetor3[0], 2)+pow(vetor3[1], 2)+pow(vetor3[2], 2))\n",
        "\n",
        "    conf=0\n",
        "\n",
        "print(\"\\t\\tSOMA DOS VETORES\")\n",
        "print(\"Vetor1+Vetor2: \",vetor1 ,\"+\" ,vetor2 ,\"=\" ,somaVet1Vet2)\n",
        "print(\"Vetor1+Vetor3: \",vetor1 ,\"+\" ,vetor3 ,\"=\" ,somaVet1Vet3)\n",
        "print(\"Vetor2+Vetor3: \",vetor2 ,\"+\" ,vetor3 ,\"=\" ,somaVet2Vet3)\n",
        "print() \n",
        "print()\n",
        "\n",
        "print(\"\\t\\tSUBTRAÇÃO DOS VETORES\")\n",
        "print(\"Vetor1-Vetor2: \",vetor1 ,\"-\" ,vetor2 ,\"=\" ,subtracVet1Vet2)\n",
        "print(\"Vetor1-Vetor3: \",vetor1 ,\"-\" ,vetor3 ,\"=\" ,subtracVet1Vet3)\n",
        "print(\"Vetor2-Vetor3: \",vetor2 ,\"-\" ,vetor3 ,\"=\" ,subtracVet2Vet3)\n",
        "print() \n",
        "print()\n",
        "\n",
        "print(\"\\t\\tMÓDULO DOS VETORES\")\n",
        "print(\"|Vetor1|: \", round(modVet1, 3))\n",
        "print(\"|Vetor2|: \", round(modVet2, 3))\n",
        "print(\"|Vetor3|: \", round(modVet3, 3))\n",
        "print() \n",
        "print()\n",
        "\n"
      ],
      "execution_count": 67,
      "outputs": [
        {
          "output_type": "stream",
          "text": [
            "\t\tSOMA DOS VETORES\n",
            "Vetor1+Vetor2:  [1, 6, 7] + [8, 6, 1] = [9, 12, 8]\n",
            "Vetor1+Vetor3:  [1, 6, 7] + [4, 2, 9] = [5, 8, 16]\n",
            "Vetor2+Vetor3:  [8, 6, 1] + [4, 2, 9] = [12, 8, 10]\n",
            "\n",
            "\n",
            "\t\tSUBTRAÇÃO DOS VETORES\n",
            "Vetor1-Vetor2:  [1, 6, 7] - [8, 6, 1] = [-7, 0, 6]\n",
            "Vetor1-Vetor3:  [1, 6, 7] - [4, 2, 9] = [-3, 4, -2]\n",
            "Vetor2-Vetor3:  [8, 6, 1] - [4, 2, 9] = [4, 4, -8]\n",
            "\n",
            "\n",
            "\t\tMÓDULO DOS VETORES\n",
            "|Vetor1|:  9.274\n",
            "|Vetor2|:  10.05\n",
            "|Vetor3|:  10.05\n"
          ],
          "name": "stdout"
        }
      ]
    }
  ]
}