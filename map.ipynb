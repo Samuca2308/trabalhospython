{
  "nbformat": 4,
  "nbformat_minor": 0,
  "metadata": {
    "colab": {
      "name": "map.ipynb",
      "provenance": [],
      "collapsed_sections": [],
      "authorship_tag": "ABX9TyPy3Qu2hAT627zR2WR04P7F",
      "include_colab_link": true
    },
    "kernelspec": {
      "name": "python3",
      "display_name": "Python 3"
    },
    "language_info": {
      "name": "python"
    }
  },
  "cells": [
    {
      "cell_type": "markdown",
      "metadata": {
        "id": "view-in-github",
        "colab_type": "text"
      },
      "source": [
        "<a href=\"https://colab.research.google.com/github/VitorSenna/trabalhospython/blob/main/map.ipynb\" target=\"_parent\"><img src=\"https://colab.research.google.com/assets/colab-badge.svg\" alt=\"Open In Colab\"/></a>"
      ]
    },
    {
      "cell_type": "code",
      "metadata": {
        "colab": {
          "base_uri": "https://localhost:8080/"
        },
        "id": "x6XdSpdcwikO",
        "outputId": "e60c6427-5e68-41ab-f7cc-f5013a3274db"
      },
      "source": [
        "#aplica uma função a todos os elementos de uma lista\n",
        "\n",
        "def dobro(x):\n",
        "  return x*2\n",
        "\n",
        "print(dobro(3))\n",
        "\n",
        "lista=[1,3,5,4,9]\n",
        "\n",
        "print(dobro(lista))\n",
        "print()\n",
        "valordobrado=map(dobro, lista)\n",
        "print(valordobrado)\n",
        "\n",
        "\n",
        "\n",
        "valordobrado = list(valordobrado)\n",
        "print()\n",
        "print(valordobrado)"
      ],
      "execution_count": null,
      "outputs": [
        {
          "output_type": "stream",
          "text": [
            "6\n",
            "[1, 3, 5, 4, 9, 1, 3, 5, 4, 9]\n",
            "\n",
            "<map object at 0x7f673f8e6d10>\n",
            "\n",
            "[2, 6, 10, 8, 18]\n"
          ],
          "name": "stdout"
        }
      ]
    }
  ]
}